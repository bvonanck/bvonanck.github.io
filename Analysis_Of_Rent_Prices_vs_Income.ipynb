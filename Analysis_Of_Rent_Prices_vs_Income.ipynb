{
 "cells": [
  {
   "cell_type": "markdown",
   "metadata": {},
   "source": [
    "Final Project:\n",
    "\n",
    "Analysis of Rent Prices vs Income Over Time"
   ]
  },
  {
   "cell_type": "code",
   "execution_count": 5,
   "metadata": {},
   "outputs": [],
   "source": [
    "import numpy as np\n",
    "import pandas as pd\n"
   ]
  },
  {
   "cell_type": "markdown",
   "metadata": {},
   "source": [
    "The Kaggle page that I got the dataset from:\n",
    "\n",
    "https://www.kaggle.com/datasets/thedevastator/rental-affordability-analysis-based-on-median-in"
   ]
  },
  {
   "cell_type": "code",
   "execution_count": 6,
   "metadata": {},
   "outputs": [
    {
     "data": {
      "text/html": [
       "<div>\n",
       "<style scoped>\n",
       "    .dataframe tbody tr th:only-of-type {\n",
       "        vertical-align: middle;\n",
       "    }\n",
       "\n",
       "    .dataframe tbody tr th {\n",
       "        vertical-align: top;\n",
       "    }\n",
       "\n",
       "    .dataframe thead th {\n",
       "        text-align: right;\n",
       "    }\n",
       "</style>\n",
       "<table border=\"1\" class=\"dataframe\">\n",
       "  <thead>\n",
       "    <tr style=\"text-align: right;\">\n",
       "      <th></th>\n",
       "      <th>index</th>\n",
       "      <th>RegionID</th>\n",
       "      <th>RegionName</th>\n",
       "      <th>SizeRank</th>\n",
       "      <th>tier</th>\n",
       "      <th>date</th>\n",
       "      <th>income</th>\n",
       "      <th>zri</th>\n",
       "      <th>PercentIncomeSpentOnRent</th>\n",
       "    </tr>\n",
       "  </thead>\n",
       "  <tbody>\n",
       "    <tr>\n",
       "      <th>0</th>\n",
       "      <td>0</td>\n",
       "      <td>394913</td>\n",
       "      <td>New York, NY</td>\n",
       "      <td>1</td>\n",
       "      <td>Bottom Tier</td>\n",
       "      <td>2011-12-31</td>\n",
       "      <td>19250.0</td>\n",
       "      <td>1503</td>\n",
       "      <td>0.936935</td>\n",
       "    </tr>\n",
       "    <tr>\n",
       "      <th>1</th>\n",
       "      <td>1</td>\n",
       "      <td>394913</td>\n",
       "      <td>New York, NY</td>\n",
       "      <td>1</td>\n",
       "      <td>Upper Tier</td>\n",
       "      <td>2011-12-31</td>\n",
       "      <td>152000.0</td>\n",
       "      <td>2908</td>\n",
       "      <td>0.229579</td>\n",
       "    </tr>\n",
       "    <tr>\n",
       "      <th>2</th>\n",
       "      <td>2</td>\n",
       "      <td>394913</td>\n",
       "      <td>New York, NY</td>\n",
       "      <td>1</td>\n",
       "      <td>Bottom Tier</td>\n",
       "      <td>2012-03-31</td>\n",
       "      <td>19375.0</td>\n",
       "      <td>1514</td>\n",
       "      <td>0.937703</td>\n",
       "    </tr>\n",
       "    <tr>\n",
       "      <th>3</th>\n",
       "      <td>3</td>\n",
       "      <td>394913</td>\n",
       "      <td>New York, NY</td>\n",
       "      <td>1</td>\n",
       "      <td>Upper Tier</td>\n",
       "      <td>2012-03-31</td>\n",
       "      <td>153000.0</td>\n",
       "      <td>2978</td>\n",
       "      <td>0.233569</td>\n",
       "    </tr>\n",
       "    <tr>\n",
       "      <th>4</th>\n",
       "      <td>4</td>\n",
       "      <td>394913</td>\n",
       "      <td>New York, NY</td>\n",
       "      <td>1</td>\n",
       "      <td>Bottom Tier</td>\n",
       "      <td>2012-06-30</td>\n",
       "      <td>19500.0</td>\n",
       "      <td>1526</td>\n",
       "      <td>0.939077</td>\n",
       "    </tr>\n",
       "  </tbody>\n",
       "</table>\n",
       "</div>"
      ],
      "text/plain": [
       "   index  RegionID    RegionName  SizeRank         tier        date    income  \\\n",
       "0      0    394913  New York, NY         1  Bottom Tier  2011-12-31   19250.0   \n",
       "1      1    394913  New York, NY         1   Upper Tier  2011-12-31  152000.0   \n",
       "2      2    394913  New York, NY         1  Bottom Tier  2012-03-31   19375.0   \n",
       "3      3    394913  New York, NY         1   Upper Tier  2012-03-31  153000.0   \n",
       "4      4    394913  New York, NY         1  Bottom Tier  2012-06-30   19500.0   \n",
       "\n",
       "    zri  PercentIncomeSpentOnRent  \n",
       "0  1503                  0.936935  \n",
       "1  2908                  0.229579  \n",
       "2  1514                  0.937703  \n",
       "3  2978                  0.233569  \n",
       "4  1526                  0.939077  "
      ]
     },
     "execution_count": 6,
     "metadata": {},
     "output_type": "execute_result"
    }
   ],
   "source": [
    "raw_data = pd.read_csv('TieredAffordability_Rental.csv')\n",
    "raw_data.head()"
   ]
  }
 ],
 "metadata": {
  "kernelspec": {
   "display_name": "Python 3",
   "language": "python",
   "name": "python3"
  },
  "language_info": {
   "codemirror_mode": {
    "name": "ipython",
    "version": 3
   },
   "file_extension": ".py",
   "mimetype": "text/x-python",
   "name": "python",
   "nbconvert_exporter": "python",
   "pygments_lexer": "ipython3",
   "version": "3.10.12"
  }
 },
 "nbformat": 4,
 "nbformat_minor": 2
}
